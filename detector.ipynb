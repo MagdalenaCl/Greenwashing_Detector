{
 "cells": [
  {
   "cell_type": "markdown",
   "id": "339b8256",
   "metadata": {},
   "source": [
    "# Greenwashing detector"
   ]
  },
  {
   "cell_type": "markdown",
   "id": "08e75dd3",
   "metadata": {},
   "source": [
    "## Data Preparation"
   ]
  },
  {
   "cell_type": "code",
   "execution_count": 2,
   "id": "32fc8312",
   "metadata": {},
   "outputs": [],
   "source": [
    "import pdfplumber\n",
    "import spacy\n",
    "import os\n",
    "import json"
   ]
  },
  {
   "cell_type": "code",
   "execution_count": 9,
   "id": "5704f866",
   "metadata": {},
   "outputs": [],
   "source": [
    "# Load NLP-Model\n",
    "nlp = spacy.load(\"en_core_web_md\")\n",
    "nlp.max_length = 2_000_000"
   ]
  },
  {
   "cell_type": "code",
   "execution_count": 10,
   "id": "64aca33d",
   "metadata": {},
   "outputs": [],
   "source": [
    "# Create directory\n",
    "pdf_dir = \"reports\"\n",
    "output_dir = \"reports_data\"\n",
    "os.makedirs(output_dir, exist_ok=True)"
   ]
  },
  {
   "cell_type": "code",
   "execution_count": 11,
   "id": "2192f8d2",
   "metadata": {},
   "outputs": [],
   "source": [
    "# Extract text from pdf\n",
    "def extract_text_from_pdf(pdf_path):\n",
    "    text = \"\"\n",
    "    with pdfplumber.open(pdf_path) as pdf:\n",
    "        for page in pdf.pages:\n",
    "            page_text = page.extract_text()\n",
    "            if page_text:\n",
    "                text += page_text + \"\\n\"\n",
    "    return text"
   ]
  },
  {
   "cell_type": "code",
   "execution_count": 13,
   "id": "9e4c5e7b",
   "metadata": {},
   "outputs": [],
   "source": [
    "def process_report(pdf_file, company, year):\n",
    "    pdf_path = os.path.join(pdf_dir, pdf_file)\n",
    "    text = extract_text_from_pdf(pdf_path)\n",
    "\n",
    "    doc = nlp(text)\n",
    "    sentences = []\n",
    "\n",
    "    for sent in doc.sents:\n",
    "        sent_text = sent.text.strip()\n",
    "        if len(sent_text) < 20:\n",
    "            continue\n",
    "\n",
    "        entities = [(ent.text, ent.label_) for ent in sent.ents]\n",
    "\n",
    "        sentences.append({\n",
    "            \"company\": company,\n",
    "            \"year\": year,\n",
    "            \"sentence\": sent_text,\n",
    "            \"entities\": entities,\n",
    "            \"label\": \"unlabeled\"\n",
    "        })\n",
    "\n",
    "    output_path = os.path.join(output_dir, f\"{company.lower()}_{year}.json\")\n",
    "    with open(output_path, \"w\", encoding=\"utf-8\") as f:\n",
    "        json.dump(sentences, f, ensure_ascii=False, indent=2)\n",
    "\n",
    "    print(f\"Processed: {company} {year} - {len(sentences)} sentences\")"
   ]
  },
  {
   "cell_type": "code",
   "execution_count": 18,
   "id": "6ab99c24",
   "metadata": {},
   "outputs": [],
   "source": [
    "reports = [\n",
    "    (\"2020_Volkswagen_Sustainability_Report.pdf\", \"Volkswagen\", 2020),\n",
    "    (\"2021_Volkswagen_Sustainability_Report.pdf\", \"Volkswagen\", 2021),\n",
    "    (\"2022_Volkswagen_Sustainability_Report.pdf\", \"Volkswagen\", 2022),\n",
    "    (\"2023_Volkswagen_Sustainability_Report.pdf\", \"Volkswagen\", 2023),\n",
    "    (\"BMW_Group_Report_2020.PDF\", \"BMW\", 2020),\n",
    "    (\"BMW_Group_Report_2021.pdf\", \"BMW\", 2021),\n",
    "    (\"BMW_Group_Report_2022.PDF\", \"BMW\", 2022),\n",
    "    (\"BMW-Group-Report-2023.pdf\", \"BMW\", 2023),\n",
    "    (\"BMW-Group-Report-2024.pdf\", \"BMW\", 2024),\n",
    "    (\"mercedes-benz-sustainability-report-2020.pdf\", \"Mercedes-Benz\", 2020),\n",
    "    (\"mercedes-benz-sustainability-report-2021.pdf\", \"Mercedes-Benz\", 2021),\n",
    "    (\"mercedes-benz-sustainability-report-2022.pdf\", \"Mercedes-Benz\", 2022),\n",
    "    (\"mercedes-benz-sustainability-report-2023.pdf\", \"Mercedes-Benz\", 2023),\n",
    "    (\"mercedes-benz-sustainability-report-2024.pdf\", \"Mercedes-Benz\", 2024)\n",
    "]"
   ]
  },
  {
   "cell_type": "code",
   "execution_count": 19,
   "id": "39b57925",
   "metadata": {},
   "outputs": [
    {
     "name": "stdout",
     "output_type": "stream",
     "text": [
      "Processed: Volkswagen 2020 - 2124 sentences\n",
      "Processed: Volkswagen 2021 - 2222 sentences\n"
     ]
    },
    {
     "name": "stderr",
     "output_type": "stream",
     "text": [
      "Cannot set gray stroke color because /'P0' is an invalid float value\n",
      "Cannot set gray stroke color because /'P1' is an invalid float value\n"
     ]
    },
    {
     "name": "stdout",
     "output_type": "stream",
     "text": [
      "Processed: Volkswagen 2022 - 2450 sentences\n"
     ]
    },
    {
     "name": "stderr",
     "output_type": "stream",
     "text": [
      "Cannot set gray stroke color because /'P0' is an invalid float value\n",
      "Cannot set gray stroke color because /'P0' is an invalid float value\n",
      "Cannot set gray stroke color because /'P1' is an invalid float value\n"
     ]
    },
    {
     "name": "stdout",
     "output_type": "stream",
     "text": [
      "Processed: Volkswagen 2023 - 2608 sentences\n"
     ]
    },
    {
     "name": "stderr",
     "output_type": "stream",
     "text": [
      "Cannot set gray stroke color because /'P0' is an invalid float value\n",
      "Cannot set gray stroke color because /'P1' is an invalid float value\n"
     ]
    },
    {
     "name": "stdout",
     "output_type": "stream",
     "text": [
      "Processed: BMW 2020 - 5055 sentences\n",
      "Processed: BMW 2021 - 5413 sentences\n",
      "Processed: BMW 2022 - 5213 sentences\n",
      "Processed: BMW 2023 - 5399 sentences\n",
      "Processed: BMW 2024 - 7922 sentences\n"
     ]
    },
    {
     "name": "stderr",
     "output_type": "stream",
     "text": [
      "Cannot set gray stroke color because /'P0' is an invalid float value\n",
      "Cannot set gray stroke color because /'P0' is an invalid float value\n",
      "Cannot set gray stroke color because /'P0' is an invalid float value\n",
      "Cannot set gray stroke color because /'P0' is an invalid float value\n",
      "Cannot set gray stroke color because /'P0' is an invalid float value\n",
      "Cannot set gray stroke color because /'P0' is an invalid float value\n"
     ]
    },
    {
     "name": "stdout",
     "output_type": "stream",
     "text": [
      "Processed: Mercedes-Benz 2020 - 4195 sentences\n",
      "Processed: Mercedes-Benz 2021 - 5997 sentences\n",
      "Processed: Mercedes-Benz 2022 - 5140 sentences\n",
      "Processed: Mercedes-Benz 2023 - 4429 sentences\n",
      "Processed: Mercedes-Benz 2024 - 6517 sentences\n"
     ]
    }
   ],
   "source": [
    "for pdf_file, company, year in reports:\n",
    "    process_report(pdf_file, company, year)"
   ]
  }
 ],
 "metadata": {
  "kernelspec": {
   "display_name": "venv",
   "language": "python",
   "name": "python3"
  },
  "language_info": {
   "codemirror_mode": {
    "name": "ipython",
    "version": 3
   },
   "file_extension": ".py",
   "mimetype": "text/x-python",
   "name": "python",
   "nbconvert_exporter": "python",
   "pygments_lexer": "ipython3",
   "version": "3.10.0"
  }
 },
 "nbformat": 4,
 "nbformat_minor": 5
}
