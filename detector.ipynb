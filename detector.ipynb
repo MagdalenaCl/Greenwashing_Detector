{
 "cells": [
  {
   "cell_type": "markdown",
   "id": "339b8256",
   "metadata": {},
   "source": [
    "# Greenwashing detector"
   ]
  },
  {
   "cell_type": "markdown",
   "id": "08e75dd3",
   "metadata": {},
   "source": [
    "## Data Preparation"
   ]
  },
  {
   "cell_type": "markdown",
   "id": "2f566b42",
   "metadata": {},
   "source": [
    "Load Data from PDF and extract the text"
   ]
  },
  {
   "cell_type": "code",
   "execution_count": 32,
   "id": "32fc8312",
   "metadata": {},
   "outputs": [],
   "source": [
    "import pdfplumber\n",
    "import spacy\n",
    "import os\n",
    "import json\n",
    "import re"
   ]
  },
  {
   "cell_type": "code",
   "execution_count": 33,
   "id": "5704f866",
   "metadata": {},
   "outputs": [],
   "source": [
    "# Load NLP-Model\n",
    "nlp = spacy.load(\"en_core_web_md\")\n",
    "nlp.max_length = 2_000_000"
   ]
  },
  {
   "cell_type": "code",
   "execution_count": 34,
   "id": "64aca33d",
   "metadata": {},
   "outputs": [],
   "source": [
    "# Create directory\n",
    "pdf_dir = \"reports\"\n",
    "output_dir = \"reports_data\"\n",
    "os.makedirs(output_dir, exist_ok=True)"
   ]
  },
  {
   "cell_type": "code",
   "execution_count": 35,
   "id": "2192f8d2",
   "metadata": {},
   "outputs": [],
   "source": [
    "# Extract text from pdf\n",
    "def extract_text_from_pdf(pdf_path):\n",
    "    text = \"\"\n",
    "    with pdfplumber.open(pdf_path) as pdf:\n",
    "        for page in pdf.pages:\n",
    "            page_text = page.extract_text()\n",
    "            if page_text:\n",
    "                text += page_text + \"\\n\"\n",
    "    return text"
   ]
  },
  {
   "cell_type": "code",
   "execution_count": 36,
   "id": "d74d790b",
   "metadata": {},
   "outputs": [],
   "source": [
    "# Clean text\n",
    "def clean_text(text):\n",
    "    # whitespaces\n",
    "    text = re.sub(r'\\n{2,}', '\\n', text)\n",
    "\n",
    "    # pagenumbers\n",
    "    text = re.sub(r'^\\s*\\d+\\s*$', '', text, flags=re.MULTILINE)\n",
    "\n",
    "    # dash\n",
    "    text = re.sub(r'-\\n', '', text)\n",
    "\n",
    "    # line break\n",
    "    text = re.sub(r'(?<!\\n)\\n(?!\\n)', ' ', text)\n",
    "\n",
    "    # reduce whitespaces\n",
    "    text = re.sub(r' +', ' ', text)\n",
    "\n",
    "    return text.strip()"
   ]
  },
  {
   "cell_type": "code",
   "execution_count": 37,
   "id": "9e4c5e7b",
   "metadata": {},
   "outputs": [],
   "source": [
    "def process_report(pdf_file, company, year):\n",
    "    pdf_path = os.path.join(pdf_dir, pdf_file)\n",
    "    text = extract_text_from_pdf(pdf_path)\n",
    "    text = clean_text(text)\n",
    "\n",
    "    doc = nlp(text)\n",
    "    sentences = []\n",
    "\n",
    "    for sent in doc.sents:\n",
    "        sent_text = sent.text.strip()\n",
    "        if len(sent_text) < 20:\n",
    "            continue\n",
    "\n",
    "        entities = [(ent.text, ent.label_) for ent in sent.ents]\n",
    "\n",
    "        sentences.append({\n",
    "            \"company\": company,\n",
    "            \"year\": year,\n",
    "            \"sentence\": sent_text,\n",
    "            \"entities\": entities,\n",
    "            \"label\": \"unlabeled\"\n",
    "        })\n",
    "\n",
    "    output_path = os.path.join(output_dir, f\"{company.lower()}_{year}.json\")\n",
    "    with open(output_path, \"w\", encoding=\"utf-8\") as f:\n",
    "        json.dump(sentences, f, ensure_ascii=False, indent=2)\n",
    "\n",
    "    print(f\"Processed: {company} {year} - {len(sentences)} sentences\")"
   ]
  },
  {
   "cell_type": "code",
   "execution_count": 38,
   "id": "6ab99c24",
   "metadata": {},
   "outputs": [],
   "source": [
    "reports = [\n",
    "    (\"2020_Volkswagen_Sustainability_Report.pdf\", \"Volkswagen\", 2020),\n",
    "    (\"2021_Volkswagen_Sustainability_Report.pdf\", \"Volkswagen\", 2021),\n",
    "    (\"2022_Volkswagen_Sustainability_Report.pdf\", \"Volkswagen\", 2022),\n",
    "    (\"2023_Volkswagen_Sustainability_Report.pdf\", \"Volkswagen\", 2023),\n",
    "    (\"BMW_Group_Report_2020.PDF\", \"BMW\", 2020),\n",
    "    (\"BMW_Group_Report_2021.pdf\", \"BMW\", 2021),\n",
    "    (\"BMW_Group_Report_2022.PDF\", \"BMW\", 2022),\n",
    "    (\"BMW-Group-Report-2023.pdf\", \"BMW\", 2023),\n",
    "    (\"BMW-Group-Report-2024.pdf\", \"BMW\", 2024),\n",
    "    (\"mercedes-benz-sustainability-report-2020.pdf\", \"Mercedes-Benz\", 2020),\n",
    "    (\"mercedes-benz-sustainability-report-2021.pdf\", \"Mercedes-Benz\", 2021),\n",
    "    (\"mercedes-benz-sustainability-report-2022.pdf\", \"Mercedes-Benz\", 2022),\n",
    "    (\"mercedes-benz-sustainability-report-2023.pdf\", \"Mercedes-Benz\", 2023),\n",
    "    (\"mercedes-benz-sustainability-report-2024.pdf\", \"Mercedes-Benz\", 2024)\n",
    "]"
   ]
  },
  {
   "cell_type": "code",
   "execution_count": null,
   "id": "39b57925",
   "metadata": {},
   "outputs": [],
   "source": [
    "for pdf_file, company, year in reports:\n",
    "    process_report(pdf_file, company, year)"
   ]
  },
  {
   "cell_type": "markdown",
   "id": "cb73a237",
   "metadata": {},
   "source": [
    "Labeling"
   ]
  },
  {
   "cell_type": "code",
   "execution_count": 20,
   "id": "c87c7328",
   "metadata": {},
   "outputs": [],
   "source": [
    "import csv"
   ]
  },
  {
   "cell_type": "code",
   "execution_count": 21,
   "id": "54b741b5",
   "metadata": {},
   "outputs": [],
   "source": [
    "input_dir = \"reports_data\"\n",
    "output_file = \"labeled_data.csv\""
   ]
  },
  {
   "cell_type": "code",
   "execution_count": 22,
   "id": "0c5c76f9",
   "metadata": {},
   "outputs": [],
   "source": [
    "def auto_label(sentence):\n",
    "    s = sentence.lower()\n",
    "\n",
    "    # red light\n",
    "    red_keywords = [\"climate neutral\", \"we care\", \"we believe\", \"we are green\", \"carbon free\", \"sustainable image\"]\n",
    "    if any (kw in s for kw in red_keywords):\n",
    "        return \"red\"\n",
    "    \n",
    "    # yellow light\n",
    "    yellow_keywords = [\"aim to\", \"strive to\", \"plan to\", \"commitment to\", \"by 2050\", \"long-term vision\"]\n",
    "    if any(kw in s for kw in yellow_keywords):\n",
    "        return \"yellow\"\n",
    "    \n",
    "    # green light\n",
    "    if (\"reduce\" in s or \"cut\" in s) and \"%\" in s:\n",
    "        return \"green\"\n",
    "    if (\"renewable energy\" in s or \"solar\" in s or \"wind\" in s):\n",
    "        return \"green\"\n",
    "    if \"by 20\" in s and any(w in s for w in [\"reduce\", \"cut\", \"transition\"]):\n",
    "        return \"green\"\n",
    "    \n",
    "    return \"unlabeled\""
   ]
  },
  {
   "cell_type": "code",
   "execution_count": 23,
   "id": "a41f1598",
   "metadata": {},
   "outputs": [
    {
     "name": "stdout",
     "output_type": "stream",
     "text": [
      "64684 Sätze automatisch gelabelt\n"
     ]
    }
   ],
   "source": [
    "all_rows = []\n",
    "\n",
    "for file_name in os.listdir(input_dir):\n",
    "    if file_name.endswith(\".json\"):\n",
    "        file_path = os.path.join(input_dir, file_name)\n",
    "        with open(file_path, \"r\", encoding=\"utf-8\") as f:\n",
    "            data = json.load(f)\n",
    "            for entry in data:\n",
    "                sentence = entry[\"sentence\"]\n",
    "                label = auto_label(sentence)\n",
    "\n",
    "                row = {\n",
    "                    \"company\": entry[\"company\"],\n",
    "                    \"year\": entry[\"year\"],\n",
    "                    \"sentence\": sentence,\n",
    "                    \"entities\": \", \".join([f\"{e[0]} ({e[1]})\" for e in entry.get(\"entities\", [])]),\n",
    "                    \"label\": label\n",
    "                }\n",
    "                all_rows.append(row)\n",
    "\n",
    "with open(output_file, \"w\", newline=\"\", encoding=\"utf-8\") as f:\n",
    "    writer = csv.DictWriter(f, fieldnames=[\"company\", \"year\", \"sentence\", \"entities\", \"label\"])\n",
    "    writer.writeheader()\n",
    "    writer.writerows(all_rows)\n",
    "\n",
    "print(f\"{len(all_rows)} Sätze automatisch gelabelt\")"
   ]
  }
 ],
 "metadata": {
  "kernelspec": {
   "display_name": "venv",
   "language": "python",
   "name": "python3"
  },
  "language_info": {
   "codemirror_mode": {
    "name": "ipython",
    "version": 3
   },
   "file_extension": ".py",
   "mimetype": "text/x-python",
   "name": "python",
   "nbconvert_exporter": "python",
   "pygments_lexer": "ipython3",
   "version": "3.10.0"
  }
 },
 "nbformat": 4,
 "nbformat_minor": 5
}
