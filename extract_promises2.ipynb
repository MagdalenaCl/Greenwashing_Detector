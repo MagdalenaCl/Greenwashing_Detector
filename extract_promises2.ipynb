{
 "cells": [
  {
   "cell_type": "markdown",
   "id": "7d0ff386",
   "metadata": {},
   "source": [
    "# Data Preparation"
   ]
  },
  {
   "cell_type": "markdown",
   "id": "84978383",
   "metadata": {},
   "source": [
    "## PDF-Text extrahieren & vorbereiten\n",
    "\n",
    "Der Nachhaltigkeitsbericht wird eingelesen, gereinigt und in Abschnitte (Chunks) unterteilt."
   ]
  },
  {
   "cell_type": "code",
   "execution_count": 21,
   "id": "5c650e24",
   "metadata": {},
   "outputs": [],
   "source": [
    "import fitz\n",
    "import re\n",
    "\n",
    "def extract_text_from_pdf(pdf_path):\n",
    "    doc = fitz.open(pdf_path)\n",
    "    text = \"\"\n",
    "    for page in doc:\n",
    "        text += page.get_text()\n",
    "    return text\n",
    "\n",
    "def clean_text(text):\n",
    "    text = text.replace(\"\\n\", \" \")\n",
    "    text = re.sub(r'\\s+', ' ', text)  # Mehrfache Leerzeichen entfernen\n",
    "    return text.strip()\n",
    "\n",
    "raw_text = extract_text_from_pdf(\"reports/2023_Volkswagen_Group_Nachhaltigkeitsbericht.pdf\")\n",
    "text = clean_text(raw_text)"
   ]
  },
  {
   "cell_type": "markdown",
   "id": "c6a809fc",
   "metadata": {},
   "source": [
    "## Text in Chunks aufteilen"
   ]
  },
  {
   "cell_type": "code",
   "execution_count": 22,
   "id": "b069c9c4",
   "metadata": {},
   "outputs": [
    {
     "name": "stdout",
     "output_type": "stream",
     "text": [
      "Anzahl Chunks: 1174\n"
     ]
    }
   ],
   "source": [
    "def chunk_text(text, max_length=500):\n",
    "    sentences = re.split(r'(?<=[.!?])\\s+', text)\n",
    "    chunks, current_chunk = [], \"\"\n",
    "    \n",
    "    for sentence in sentences:\n",
    "        if len(current_chunk) + len(sentence) <= max_length:\n",
    "            current_chunk += \" \" + sentence\n",
    "        else:\n",
    "            chunks.append(current_chunk.strip())\n",
    "            current_chunk = sentence\n",
    "    if current_chunk:\n",
    "        chunks.append(current_chunk.strip())\n",
    "    \n",
    "    return chunks\n",
    "\n",
    "chunks = chunk_text(text)\n",
    "print(f\"Anzahl Chunks: {len(chunks)}\")"
   ]
  },
  {
   "cell_type": "code",
   "execution_count": 23,
   "id": "05e2a892",
   "metadata": {},
   "outputs": [
    {
     "data": {
      "text/plain": [
       "'2023 N A C H H A LT I G K E I T S B E R I C H T Inhalt Navigationshilfe Kapitelverweise innerhalb des Nachhaltigkeitsberichts Verweise auf Websites 6 Vorwort 9 Über den Bericht 12 \\x07 Nachhaltigkeit in der Unternehmens-DNA 13 Corporate Governance 17 Konzernstrategie NEW AUTO 22 \\x07ESG-Performance-Management und Wesentlichkeitsanalyse 25 Nachhaltigkeitsmanagement 27 \\x07Nachhaltigkeitswirkungen neuer Mobilitätsangebote 30 Stakeholder-Management 33 Umwelt-Compliance-Management 42 Risikomanagement 45 Corporate Citizenship Fokusthemen 1 \\x07Dekarbonisierung 48 Dekarbonisierung 69 EU-Taxonomie 2 \\x07Kreislaufwirtschaft 83 Kreislaufwirtschaft 3 \\x07Menschen in der Transformation 90 Menschen in der Transformation 4 \\x07Vielfalt 104 Vielfalt 5 \\x07Integrität und Compliance 109 Integrität und Compliance 6 \\x07Lieferkette und Menschenrechte 117 Lieferkette und Menschenrechte 131 Anhang 132 \\x07Vermerk des unabhängigen Wirtschaftsprüfers 135 Impressum 2 Nachhaltigkeits\\xad kommunikation des Volkswagen Konzerns 2023 G E S C H Ä F T S B E R I C H T 2023 N A C H H A LT I G K E I T S B E R I C H T \\x07Begleitende Informationen zur Berichterstattung ESG-Kennzahlen Indikatoren entlang unserer Fokusthemen sind in Excel übersichtlich dargestellt GRI-Index GRI-Inhaltsindex (unter Bezugnahme) SASB-Index Index Automobile Berichte zu Sonderthemen Responsible Raw Materials Report Fortschritte bei Transparenz und Risiko\\xad minderung in den Rohstofflieferketten (jährlich) Association Climate Review Report Übersicht zu klimapolitischen Positionen Green Finance Report Umsetzung nachhaltiger Finanzierungs\\xad strategien (jährlich) Weitere ESG-Themen Informationen zu weiteren Themen, die im Be\\xad reich Nachhaltigkeit und ESG von Bedeutung sind \\x07Informationen auf der Konzern-Website Policies Selbstverpflichtungen und Grundsätze, die konzernweit gelten ESG-Kontroversen Informationen zu aktuellen und laufenden \\xadKontroversen in sachlicher Form Internationale Initiativen UN Sustainable Development Goals Aktivitäten und Projekte, die zur Erreichung der Nachhaltigkeitsziele beitragen (jährlich) UN Global Compact Umsetzung der zehn UN-Global-Compact- Prinzipien (jährlich) CDP Score Report – Climate Change Bewertung der klimabezogenen Risiken, Ziele und Maßnahmen CDP Score Report – Water Security Bewertung im Bereich Wasserressourcen Nachhaltigkeit und ESG sind Teil der Konzernstrategie ESG-Performance ESG-Performance Ziel ist es, die Leistung in ESG-Ratings und -Rankings des Kapitalmarkts zu ver\\xad bessern, um die Investitionsfähigkeit zu steigern und Kapitalkosten zu optimieren.'"
      ]
     },
     "execution_count": 23,
     "metadata": {},
     "output_type": "execute_result"
    }
   ],
   "source": [
    "chunks[1]"
   ]
  },
  {
   "cell_type": "markdown",
   "id": "725eca1f",
   "metadata": {},
   "source": [
    "## Textverarbeitung\n",
    "\n",
    "Tokenisierung, Stoppwörter & Lemmatisierung"
   ]
  },
  {
   "cell_type": "code",
   "execution_count": 28,
   "id": "1b3bebdf",
   "metadata": {},
   "outputs": [
    {
     "name": "stdout",
     "output_type": "stream",
     "text": [
      "Beispiel vorverarbeiteter Chunk:\n",
      "inhalt navigationshilfe kapitelverweise innerhalb nachhaltigkeitsberichts verweise website vorwort b...\n",
      "\n"
     ]
    },
    {
     "name": "stderr",
     "output_type": "stream",
     "text": [
      "[nltk_data] Downloading package stopwords to\n",
      "[nltk_data]     C:\\Users\\schmu\\AppData\\Roaming\\nltk_data...\n",
      "[nltk_data]   Package stopwords is already up-to-date!\n",
      "[nltk_data] Downloading package wordnet to\n",
      "[nltk_data]     C:\\Users\\schmu\\AppData\\Roaming\\nltk_data...\n",
      "[nltk_data]   Package wordnet is already up-to-date!\n"
     ]
    }
   ],
   "source": [
    "import nltk\n",
    "from nltk.corpus import stopwords\n",
    "from nltk.stem import WordNetLemmatizer\n",
    "\n",
    "nltk.download('stopwords')\n",
    "nltk.download('wordnet')\n",
    "\n",
    "stop_words = set(stopwords.words('german'))\n",
    "lemmatizer = WordNetLemmatizer()\n",
    "\n",
    "def preprocess_text(text):\n",
    "    text = text.lower()\n",
    "    text = re.sub(r'[^a-zäöüß ]', ' ', text)\n",
    "    tokens = text.split()\n",
    "    tokens = [lemmatizer.lemmatize(token) for token in tokens if token not in stop_words and len(token) > 2]\n",
    "    return \" \".join(tokens)\n",
    "\n",
    "preprocessed_chunks = [preprocess_text(chunk) for chunk in chunks]\n",
    "print(f\"Beispiel vorverarbeiteter Chunk:\\n{preprocessed_chunks[1][:100]}...\\n\")"
   ]
  },
  {
   "cell_type": "markdown",
   "id": "1761eb61",
   "metadata": {},
   "source": [
    "## Filterung von Nachhaltigkeitsversprechen\n",
    "\n",
    "In diesem Schritt werden die Textabschnitte (Chunks) auf das Vorkommen vordefinierter Schlüsselbegriffe zu Nachhaltigkeit (z. B. klimaneutral, emissionen, paris) überprüft. Nur die Textpassagen, die mindestens einen dieser Begriffe enthalten, werden als potenzielle Nachhaltigkeitsversprechen markiert und für die weitere Analyse berücksichtigt."
   ]
  },
  {
   "cell_type": "code",
   "execution_count": 32,
   "id": "58f1547d",
   "metadata": {},
   "outputs": [
    {
     "name": "stdout",
     "output_type": "stream",
     "text": [
      "Keywords: ['verantwortung', 'nachhaltigkeit', 'dekarbonisierung', 'strategie', '2030', 'klimaschutz', 'emission', 'deklarieren', 'klimaziel', 'co2', 'paris', 'klimaneutralität', 'umweltziel']\n",
      "Original Chunk Beispiel:\n",
      " 2023 N A C H H A LT I G K E I T S B E R I C H T Inhalt Navigationshilfe Kapitelverweise innerhalb des Nachhaltigkeitsberichts Verweise auf Websites 6 Vorwort 9 Über den Bericht 12 \u0007 Nachhaltigkeit in der Unternehmens-DNA 13 Corporate Governance 17 Konzernstrategie NEW AUTO 22 \u0007ESG-Performance-Manage\n",
      "Vorverarbeiteter Chunk Beispiel:\n",
      " inhalt navigationshilfe kapitelverweise innerhalb nachhaltigkeitsberichts verweise website vorwort bericht nachhaltigkeit unternehmens dna corporate governance konzernstrategie new auto esg performance management wesentlichkeitsanalyse nachhaltigkeitsmanagement nachhaltigkeitswirkungen neuer mobilit\n",
      "Enthält Keywords? True\n",
      "Gefilterte Chunks: 468\n",
      "Beispiel gefilterter Chunk: Auf unserem Weg vom Automobilhersteller zum Mobilitätskonzern ordnen wir mit der Konzernstrategie NEW AUTO unsere Prioritäten neu und stellen uns zukunftsgerichtet auf. Dabei behalten wir unser Ziel, ein weltweit führender Anbieter nachhaltiger Mobilität zu sein, fest im Blick und richten den Konzer\n"
     ]
    }
   ],
   "source": [
    "relevant_keywords = [ \n",
    "    \"verantwortung\", \"nachhaltigkeit\", \"dekarbonisierung\", \"strategie\",\n",
    "    \"2030\", \"klimaschutz\", \"emission\",  \"deklarieren\", \"klimaziel\", \n",
    "    \"co2\", \"paris\", \"klimaneutralität\", \"umweltziel\"\n",
    "]\n",
    "\n",
    "# Keywords normalisiert (klein & lemmatisiert)\n",
    "lemmatized_keywords = [lemmatizer.lemmatize(w.lower()) for w in relevant_keywords]\n",
    "\n",
    "def contains_keywords(text):\n",
    "    return any(keyword in text for keyword in lemmatized_keywords)\n",
    "\n",
    "print(\"Keywords:\", lemmatized_keywords)\n",
    "print(\"Original Chunk Beispiel:\\n\", chunks[1][:300])\n",
    "print(\"Vorverarbeiteter Chunk Beispiel:\\n\", preprocessed_chunks[1][:300])\n",
    "\n",
    "# 2. Check Filterfunktion:\n",
    "print(\"Enthält Keywords?\", contains_keywords(preprocessed_chunks[1]))\n",
    "\n",
    "# 3. Filterung mit originalen und vorverarbeiteten Chunks verknüpfen\n",
    "filtered_chunks = [\n",
    "    original for original, preprocessed in zip(chunks, preprocessed_chunks)\n",
    "    if contains_keywords(preprocessed)\n",
    "]\n",
    "\n",
    "print(f\"Gefilterte Chunks: {len(filtered_chunks)}\")\n",
    "print(\"Beispiel gefilterter Chunk:\", filtered_chunks[1][:300])"
   ]
  },
  {
   "cell_type": "markdown",
   "id": "243c9d3f",
   "metadata": {},
   "source": [
    "## KeyBERT zur Extraktion der relevantesten Aussagen\n",
    "\n",
    "In diesem Schritt wird mithilfe von KeyBERT und einem vortrainierten SentenceTransformer-Modell (MiniLM) aus jedem Textabschnitt (chunk) eine Liste der wichtigsten Schlüsselbegriffe (Keywords) extrahiert. Diese Keywords dienen als Grundlage für die semantische Analyse und spätere Filterung von relevanten Nachhaltigkeitsaussagen."
   ]
  },
  {
   "cell_type": "code",
   "execution_count": 38,
   "id": "97721476",
   "metadata": {},
   "outputs": [
    {
     "name": "stdout",
     "output_type": "stream",
     "text": [
      "Chunk 1 Keywords: [('nachhaltigkeitsmanagement 27 nachhaltigkeitswirkungen', 0.6765), ('nachhaltigkeitsmanagement 27', 0.6708), ('nachhaltigkeitsmanagement', 0.6663), ('25 nachhaltigkeitsmanagement', 0.6639), ('wesentlichkeitsanalyse 25 nachhaltigkeitsmanagement', 0.6635)]\n",
      "\n",
      "Chunk 2 Keywords: [('automobilhersteller mobilitätskonzern ordnen', 0.5576), ('effizienter innovativer', 0.5324), ('automobilhersteller mobilitätskonzern', 0.5283), ('effizienter innovativer kundennäher', 0.525), ('zukunftsgerichtet dabei behalten', 0.5071)]\n",
      "\n",
      "Chunk 3 Keywords: [('definiert bereich nachhaltigkeit', 0.6284), ('vorliegende nachhaltigkeitsbericht', 0.6078), ('fokusthemen vorliegende nachhaltigkeitsbericht', 0.6011), ('bereich nachhaltigkeit esg', 0.5966), ('nachhaltigkeit esg konzerninitiative', 0.5831)]\n",
      "\n",
      "Chunk 4 Keywords: [('nachhaltigkeit unternehmens dna', 0.6578), ('nachhaltigkeit unternehmen', 0.6219), ('dna definition nachhaltigkeit', 0.6189), ('nachhaltigkeit unternehmen einblick', 0.6164), ('nachhaltigkeit unternehmens', 0.6063)]\n",
      "\n",
      "Chunk 5 Keywords: [('energy volkswagen group', 0.5153), ('energy volkswagen', 0.5042), ('dekarbonisierung kreislauf wirtschaft', 0.461), ('volkswagen group mobility', 0.4435), ('luxury trucks architecture', 0.4371)]\n",
      "\n"
     ]
    }
   ],
   "source": [
    "from keybert import KeyBERT\n",
    "from sentence_transformers import SentenceTransformer\n",
    "\n",
    "model = SentenceTransformer(\"paraphrase-MiniLM-L6-v2\")\n",
    "kw_model = KeyBERT(model=model)\n",
    "\n",
    "german_stopwords = stopwords.words('german')\n",
    "\n",
    "for i, chunk in enumerate(filtered_chunks[:5]):\n",
    "    keywords = kw_model.extract_keywords(chunk, keyphrase_ngram_range=(1, 3), stop_words=german_stopwords, top_n=5)\n",
    "    print(f\"Chunk {i+1} Keywords: {keywords}\\n\")"
   ]
  },
  {
   "cell_type": "code",
   "execution_count": 43,
   "id": "c895ed7b",
   "metadata": {},
   "outputs": [
    {
     "name": "stdout",
     "output_type": "stream",
     "text": [
      "   Topic  Count                                       Name  \\\n",
      "0      0    334      0_volkswagen_konzern_emissionen_sowie   \n",
      "1      1    134  1_compliance_integrität_menschen_vielfalt   \n",
      "\n",
      "                                      Representation  \\\n",
      "0  [volkswagen, konzern, emissionen, sowie, konze...   \n",
      "1  [compliance, integrität, menschen, vielfalt, m...   \n",
      "\n",
      "                                 Representative_Docs  \n",
      "0  [bestandteil zusammengefassten nichtfinanziell...  \n",
      "1  [inhalt unternehmens dna dekarbonisierung krei...  \n",
      "\n",
      "Beispiel Topic 1:\n",
      "[('compliance', 0.11401316522868743), ('integrität', 0.09951560714829692), ('menschen', 0.09878921585524367), ('vielfalt', 0.09822713177513791), ('menschenrechte', 0.09789965164703741), ('transformation', 0.09678795553085918), ('dekarbonisierung', 0.09540355140999837), ('lieferkette', 0.09514045177367722), ('kreislaufwirtschaft', 0.09417880239280832), ('dna', 0.09411667294955907)]\n"
     ]
    }
   ],
   "source": [
    "from bertopic import BERTopic\n",
    "from sentence_transformers import SentenceTransformer\n",
    "\n",
    "preprocessed_filtered_chunks = [preprocess_text(chunk) for chunk in filtered_chunks]\n",
    "\n",
    "embedding_model = SentenceTransformer(\"paraphrase-MiniLM-L6-v2\")\n",
    "topic_model = BERTopic(language=\"german\", embedding_model=embedding_model)\n",
    "\n",
    "topics, probs = topic_model.fit_transform(preprocessed_filtered_chunks)\n",
    "\n",
    "topic_info = topic_model.get_topic_info()\n",
    "print(topic_info)\n",
    "\n",
    "print(\"\\nBeispiel Topic 1:\")\n",
    "print(topic_model.get_topic(1))"
   ]
  },
  {
   "cell_type": "markdown",
   "id": "7f8d2134",
   "metadata": {},
   "source": [
    "## Artikel Vorverarbeitung"
   ]
  },
  {
   "cell_type": "code",
   "execution_count": 56,
   "id": "6eaa872a",
   "metadata": {},
   "outputs": [
    {
     "name": "stdout",
     "output_type": "stream",
     "text": [
      "Unternehmen verursachen einen Großteil der globalen CO2-Emissionen. Nach eigenen Angaben sind sie bemüht, den Ausstoß zu senken. Doch meist steckt nur Greenwashing dahinter.\n",
      "\n",
      "Der Wind hat sich gedreht. Ab dem Jahr 2004 diskutierte die Welt zunächst über den CO2-Fußabdruck, den jeder Mensch hinterlässt. Der Energiekonzern BP hatte einen Online-Rechner eingeführt. Jede:r konnte sich selbst seine:ihre Portion Schuld an der Klimakatastrophe ausrechnen. Mittlerweile hat sich aber die Erkenntnis durchgesetzt, dass Unternehmen rund 71 Prozent der globalen CO2-Emissionen verursachen. Die Energieindustrie alleine bläst fast doppelt so viel Emissionen in die Luft wie der Transportsektor. Und versucht das, durch Greenwashing zu verschleiern.\n",
      "\n",
      "Denn Konzerne sind verpflichtet, einen Nachhaltigkeitsbericht zu veröffentlichen. Darin fassen die Firmen ihre Bemühungen zur Reduktion ihres CO2-Fußabdrucks zusammen. Kontrolliert werden diese Ziele unter anderem vom Corporate Climate Responsibility Monitor (CCRM). Er analysiert die Klimastrategien von 24 globalen Unternehmen, die in Summe 2,2 Gigatonnen Treibhausgase ausstoßen. Das Ergebnis des CCRM ist ernüchternd. Die Verpflichtungen der Unternehmen seien unklar, die Kompensationspläne unglaubwürdig und bestimmte Emissionsbereiche blieben unberücksichtigt.\n",
      "\n",
      "Musterschüler in Sachen Greenwashing\n",
      "\n",
      "Das ist überraschend, denn der CCRM hat die 24 Unternehmen nicht zufällig ausgesucht. Es handelt sich um Firmen, die sich selbst als besonders ambitioniert im Kampf gegen die Klimakatastrophe inszenieren. Sie haben teils sogar Dekarbonisierungspläne angekündigt, die helfen sollen, die Erderwärmung auf 1,5 Grad Celsius zu begrenzen. „Insgesamt stufen wir die Klimastrategien von 15 der 24 Unternehmen als von geringer oder sehr geringer Integrität ein. Wir haben festgestellt, dass die meisten Strategien der Unternehmen keine Beispiele für eine gute Praxis beim Klimaführungsmanagement darstellen“, fasst der Report diese Pläne zusammen.\n",
      "\n",
      "Die Minimalanforderung, um das 1,5-Grad-Ziel zu erreichen, ist eine Reduzierung der CO2-Emissionen um 48 Prozent bis ins Jahr 2030. Gerade einmal vier Firmen (Maersk, Stellantis, H&M-Group und Apple) haben überhaupt ein Reduktionsziel, das diese Hürde nimmt. Im Schnitt nehmen sich die Firmen eine Verringerung der CO2-Emissionen von 21 Prozent vor. Beim Ziel der Klimaneutralität fällt die Analyse noch dramatischer aus. Dafür müssten die Konzerne ihre Emissionen langfristig um 90 Prozent reduzieren. Gerade einmal fünf haben das überhaupt vor (Maersk, Thyssenkrupp, Stellantis, H&M Group und Holcim). Sieben Firmen haben unzureichende Ziele (Carrefour, Walmart, Samsung, Google, Microsoft und Apple, Ahold Delhaize). Und zwölf haben sich dieses Ziel nicht einmal gesetzt.\n",
      "\n",
      "Darunter (beispielhaft) auch Volkswagen, die derzeit mit harten Bandagen mit der IG Metall verhandeln. Der Autobauer erntet im Report viel Kritik, unter anderem für die Behauptung, einzelne Produktionslinien seien bereits klimaneutral. Der Report erklärt, dass VW 6,1 Megatonnen CO2-Äquivalent per Zertifikate verschwinden ließ. Für diese Ausgleichsgutschriften hat VW im Jahr 2022 ein Joint Venture mit ClimatePartner gegründet. Es soll Waldschutz- und Aufforstungsprojekte entwickeln und finanzieren. Diese Art der Kompensation sei ungeeignet, da die Bindung von Kohlenstoff auf diesem Weg unbeständig sei. Für eine entsprechende Skalierung fehle es an finanziellen Mitteln. Die Maßnahmen von VW würden nicht ausreichen, um das Pariser Klimaabkommen einzuhalten. Doch damit ist der Autobauer in bester Gesellschaft.\n"
     ]
    }
   ],
   "source": [
    "from newspaper import Article\n",
    "\n",
    "url = \"https://www.arbeit-wirtschaft.at/greenwashing-tarnen-und-taeuschen/\"\n",
    "article = Article(url, language='de')\n",
    "article.download()\n",
    "article.parse()\n",
    "article_text = article.text\n",
    "\n",
    "print(text)"
   ]
  },
  {
   "cell_type": "code",
   "execution_count": 57,
   "id": "b8503765",
   "metadata": {},
   "outputs": [
    {
     "name": "stdout",
     "output_type": "stream",
     "text": [
      "Anzahl Artikel-Chunks: 8\n"
     ]
    }
   ],
   "source": [
    "cleaned_article_text = clean_text(article_text)\n",
    "article_chunks = chunk_text(cleaned_article_text)\n",
    "print(f\"Anzahl Artikel-Chunks: {len(article_chunks)}\")"
   ]
  },
  {
   "cell_type": "code",
   "execution_count": 58,
   "id": "111c0e96",
   "metadata": {},
   "outputs": [
    {
     "name": "stdout",
     "output_type": "stream",
     "text": [
      "Beispiel vorverarbeiteter Chunk:\n",
      "unternehmen verursachen großteil globalen emissionen eigenen angaben bemüht ausstoß senken meist steckt greenwashing dahinter wind gedreht jahr diskutierte welt zunächst fußabdruck mensch hinterlässt \n"
     ]
    }
   ],
   "source": [
    "preprocessed_article_chunks = [preprocess_text(chunk) for chunk in article_chunks]\n",
    "\n",
    "print(f\"Beispiel vorverarbeiteter Chunk:\\n{preprocessed_article_chunks[0][:200]}\")"
   ]
  },
  {
   "cell_type": "code",
   "execution_count": null,
   "id": "42cdaadb",
   "metadata": {},
   "outputs": [
    {
     "name": "stdout",
     "output_type": "stream",
     "text": [
      "   Topic  Count                                            Name  \\\n",
      "0     -1      4                   -1_unternehmen_ccrm_sei_seien   \n",
      "1      0      2  0_emissionen_verursachen_greenwashing_globalen   \n",
      "2      1      2              1_prozent_firmen_emissionen_maersk   \n",
      "\n",
      "                                      Representation  \\\n",
      "0  [unternehmen, ccrm, sei, seien, autobauer, ger...   \n",
      "1  [emissionen, verursachen, greenwashing, global...   \n",
      "2  [prozent, firmen, emissionen, maersk, apple, g...   \n",
      "\n",
      "                                 Representative_Docs  \n",
      "0  [kontrolliert ziele corporate climate responsi...  \n",
      "1  [mittlerweile erkenntnis durchgesetzt unterneh...  \n",
      "2  [festgestellt meisten strategien unternehmen b...  \n",
      "\n",
      "Beispiel Topic 1:\n",
      "[('prozent', 0.1292642503588437), ('firmen', 0.12043215657900685), ('emissionen', 0.11329583488703311), ('maersk', 0.10479891494707327), ('apple', 0.10479891494707327), ('group', 0.10479891494707327), ('gerade', 0.10479891494707327), ('überhaupt', 0.10479891494707327), ('beim', 0.10479891494707327), ('stellantis', 0.10479891494707327)]\n"
     ]
    }
   ],
   "source": [
    "#für kleine Datenmengen\n",
    "from umap import UMAP\n",
    "import hdbscan\n",
    "\n",
    "embedding_model = SentenceTransformer(\"paraphrase-MiniLM-L6-v2\")\n",
    "\n",
    "umap_model = UMAP(n_neighbors=3, n_components=5, metric='cosine')\n",
    "hdbscan_model = hdbscan.HDBSCAN(min_cluster_size=2, metric='euclidean', prediction_data=True)\n",
    "\n",
    "topic_model = BERTopic(\n",
    "    language=\"german\",\n",
    "    embedding_model=embedding_model,\n",
    "    umap_model=umap_model,\n",
    "    hdbscan_model=hdbscan_model\n",
    ")\n",
    "\n",
    "topics, probs = topic_model.fit_transform(preprocessed_article_chunks)\n",
    "\n",
    "topic_info = topic_model.get_topic_info()\n",
    "print(topic_info)\n",
    "\n",
    "print(\"\\nBeispiel Topic 1:\")\n",
    "print(topic_model.get_topic(1))"
   ]
  },
  {
   "cell_type": "markdown",
   "id": "35137656",
   "metadata": {},
   "source": [
    "# Modeling"
   ]
  },
  {
   "cell_type": "markdown",
   "id": "bd467ad7",
   "metadata": {},
   "source": [
    "## Vergleich von Artikel und Bericht"
   ]
  },
  {
   "cell_type": "code",
   "execution_count": 64,
   "id": "d2722475",
   "metadata": {},
   "outputs": [
    {
     "name": "stdout",
     "output_type": "stream",
     "text": [
      "\n",
      "Artikel-Chunk 1:\n",
      "Unternehmen verursachen einen Großteil der globalen CO2-Emissionen. Nach eigenen Angaben sind sie bemüht, den Ausstoß zu senken. Doch meist steckt nur Greenwashing dahinter. Der Wind hat sich gedreht. Ab dem Jahr 2004 diskutierte die Welt zunächst über den CO2-Fußabdruck, den jeder Mensch hinterläss...\n",
      "\n",
      "Ähnlichster Bericht-Chunk 1 (Score: 0.81):\n",
      "Klimaschutzbezogene Begrifflichkeiten Die Verwendung des Begriffs CO2-Emissionen in diesem Be­ richt schließt die Betrachtung und Ermittlung weiterer klima­ schädlicher Treibhausgase wie zum Beispiel Methan (CH₄) und Lachgas (N₂O) mit ein (CO2-Äquivalente). Alle Angaben in diesem Bericht zu CO2-Emis\n",
      "--------------------------------------------------------------------------------\n",
      "Ähnlichster Bericht-Chunk 2 (Score: 0.81):\n",
      "Es kann unterschiedliche Gründe geben, die Emissionen vergangener Jahre neu zu ­bewerten, um einen fairen Vergleich mit aktuellen Emissionen zu ermöglichen: Strukturelle Änderungen des Unterneh­ mens, Änderungen der Berechnungsmethode, Steigerung der Genauigkeit von Emissionsfaktoren oder Aktivitäts\n",
      "--------------------------------------------------------------------------------\n",
      "Ähnlichster Bericht-Chunk 3 (Score: 0.80):\n",
      "Bis spätestens 2050 wollen wir ein bilanziell CO₂-neutrales Unternehmen sein. ÖKOSYSTEME bewahren Wir reduzieren schädliche Emissionen in Luft, Böden und Gewässer. Wir verringern die Auswirkungen unserer Geschäftstätigkeiten auf Biodiversität und Öko­ systemleistungen und fördern Projekte zu deren B\n",
      "--------------------------------------------------------------------------------\n",
      "\n",
      "Artikel-Chunk 2:\n",
      "Mittlerweile hat sich aber die Erkenntnis durchgesetzt, dass Unternehmen rund 71 Prozent der globalen CO2-Emissionen verursachen. Die Energieindustrie alleine bläst fast doppelt so viel Emissionen in die Luft wie der Transportsektor. Und versucht das, durch Greenwashing zu verschleiern. Denn Konzern...\n",
      "\n",
      "Ähnlichster Bericht-Chunk 1 (Score: 0.84):\n",
      "Es kann unterschiedliche Gründe geben, die Emissionen vergangener Jahre neu zu ­bewerten, um einen fairen Vergleich mit aktuellen Emissionen zu ermöglichen: Strukturelle Änderungen des Unterneh­ mens, Änderungen der Berechnungsmethode, Steigerung der Genauigkeit von Emissionsfaktoren oder Aktivitäts\n",
      "--------------------------------------------------------------------------------\n",
      "Ähnlichster Bericht-Chunk 2 (Score: 0.82):\n",
      "Klimaschutzbezogene Begrifflichkeiten Die Verwendung des Begriffs CO2-Emissionen in diesem Be­ richt schließt die Betrachtung und Ermittlung weiterer klima­ schädlicher Treibhausgase wie zum Beispiel Methan (CH₄) und Lachgas (N₂O) mit ein (CO2-Äquivalente). Alle Angaben in diesem Bericht zu CO2-Emis\n",
      "--------------------------------------------------------------------------------\n",
      "Ähnlichster Bericht-Chunk 3 (Score: 0.79):\n",
      "Die entsprechenden Emissionsfaktoren für diese vier Ver­ kehrsträger wurden auf der Grund­lage externer generischer Datenquellen er­ mittelt. Die weltweiten pendlerbedingten Scope-3-Emissionen wurden, ausgehend von den Wolfsburger ­Ergebnissen, auf Basis der Mitarbeiterzahl hochgerechnet.\n",
      "--------------------------------------------------------------------------------\n",
      "\n",
      "Artikel-Chunk 3:\n",
      "Kontrolliert werden diese Ziele unter anderem vom Corporate Climate Responsibility Monitor (CCRM). Er analysiert die Klimastrategien von 24 globalen Unternehmen, die in Summe 2,2 Gigatonnen Treibhausgase ausstoßen. Das Ergebnis des CCRM ist ernüchternd. Die Verpflichtungen der Unternehmen seien unkl...\n",
      "\n",
      "Ähnlichster Bericht-Chunk 1 (Score: 0.76):\n",
      "Um unser Engagement im Bereich von Klimaschutzprojekten zu unter­ mauern und eigene Projekte nach den höchsten Standards zu entwickeln, haben die VW Kraftwerk GmbH und Climate­ Partner GmbH ein Joint Venture (JV) gegründet: die Volkswagen ClimatePartner GmbH. Sie entwickelt und finanziert zertifizie\n",
      "--------------------------------------------------------------------------------\n",
      "Ähnlichster Bericht-Chunk 2 (Score: 0.73):\n",
      "Ge­ mäß CSR-RUG konzentriert sich der vorliegende nichtfinan­ zielle Bericht auf Fokusthemen, die für das Verständnis des Geschäftsverlaufs, des Geschäftsergebnisses, der Lage des Volkswagen Konzerns sowie der Auswirkungen des Volkswa­ gen Konzerns auf die nichtfinanziellen Aspekte erforderlich sind\n",
      "--------------------------------------------------------------------------------\n",
      "Ähnlichster Bericht-Chunk 3 (Score: 0.71):\n",
      "Weiterführende ­Informationen zu unserem Umweltleitbild finden Sie im Kapitel Umwelt-Compliance-Management. Umwelt-Compliance-Management Berichterstattung gemäß TCFD-Empfehlungen Das Kapitel zur Dekarbonisierung orientiert sich auch in diesem Jahr an den Vorgaben der Task Force on Climate-related ­F\n",
      "--------------------------------------------------------------------------------\n",
      "\n",
      "Artikel-Chunk 4:\n",
      "Musterschüler in Sachen Greenwashing Das ist überraschend, denn der CCRM hat die 24 Unternehmen nicht zufällig ausgesucht. Es handelt sich um Firmen, die sich selbst als besonders ambitioniert im Kampf gegen die Klimakatastrophe inszenieren. Sie haben teils sogar Dekarbonisierungspläne angekündigt, ...\n",
      "\n",
      "Ähnlichster Bericht-Chunk 1 (Score: 0.75):\n",
      "Bei Nachhaltigkeitsratings streben wir eine Top-Platzierung im Verhältnis zu unseren Wettbewerbern an. Wir bekennen uns zum Pariser Klimaschutzabkommen und richten unsere ei­ genen Aktivitäten am 1,5-Grad-Ziel aus. Bis 2050 beabsich­ tigen wir, ein bilanziell CO2-neutrales Unternehmen zu sein. Außer\n",
      "--------------------------------------------------------------------------------\n",
      "Ähnlichster Bericht-Chunk 2 (Score: 0.73):\n",
      "Im Dekarbonisierungsprogramm bewerten wir die Effizienz von Reduktionsmaßnahmen mithilfe von Vermeidungskosten und aggregieren diese in einer Vermeidungskostenkurve. Im Zuge dessen arbeiten wir aktuell mit einem internen CO2-Preis beziehungsweise Vermeidungskosten von bis zu 20 € pro t CO2. Dieser W\n",
      "--------------------------------------------------------------------------------\n",
      "Ähnlichster Bericht-Chunk 3 (Score: 0.73):\n",
      "Potenziell sich daraus ergebende Nachfrage­ überhänge für Strom aus nichtfossilen Quellen können zu höheren Marktpreisen führen. Dadurch können Mehr­ kosten für den Konzern entstehen und die Erreichung seiner Dekarbonisierungsziele kann gefährdet werden, falls die für eine Zielerreichung erforderlic\n",
      "--------------------------------------------------------------------------------\n",
      "\n",
      "Artikel-Chunk 5:\n",
      "Wir haben festgestellt, dass die meisten Strategien der Unternehmen keine Beispiele für eine gute Praxis beim Klimaführungsmanagement darstellen“, fasst der Report diese Pläne zusammen. Die Minimalanforderung, um das 1,5-Grad-Ziel zu erreichen, ist eine Reduzierung der CO2-Emissionen um 48 Prozent b...\n",
      "\n",
      "Ähnlichster Bericht-Chunk 1 (Score: 0.74):\n",
      "Nachhaltigkeit im Kontext von Arbeits- und Gesundheitsschutz bedeutet für uns, lang­ fristige Strategien und Maßnahmen zu entwickeln und umzu­ setzen, die darauf abzielen, die Sicherheit und Gesundheit der Beschäftigten zu gewährleisten und gleichzeitig ökologische und soziale Aspekte zu berücksicht\n",
      "--------------------------------------------------------------------------------\n",
      "Ähnlichster Bericht-Chunk 2 (Score: 0.72):\n",
      "Weitere Vorgaben werden sich aus der neuen Altfahr­ zeuggesetzgebung ergeben, zu der die EU-Kommission im Berichtsjahr einen ersten Entwurf vorgelegt hat. Ein wichtiger Treiber der Kreislaufwirtschaft ist auch die fortschreitende Dekarbonisierung des Volkswagen Konzerns: Der wachsende Einsatz von Se\n",
      "--------------------------------------------------------------------------------\n",
      "Ähnlichster Bericht-Chunk 3 (Score: 0.72):\n",
      "Diese schaffen einen einheitlichen Rahmen für die freiwillige und konsis­tente Berichterstattung klimabezogener Finanzrisiken und -chancen von Unternehmen. Wir berichten entlang der vier Anforde­ rungskategorien, die Unternehmen bei ihrer Berichterstattung gemäß TCFD berücksichtigen sollten: Gover­n\n",
      "--------------------------------------------------------------------------------\n",
      "\n",
      "Artikel-Chunk 6:\n",
      "Im Schnitt nehmen sich die Firmen eine Verringerung der CO2-Emissionen von 21 Prozent vor. Beim Ziel der Klimaneutralität fällt die Analyse noch dramatischer aus. Dafür müssten die Konzerne ihre Emissionen langfristig um 90 Prozent reduzieren. Gerade einmal fünf haben das überhaupt vor (Maersk, Thys...\n",
      "\n",
      "Ähnlichster Bericht-Chunk 1 (Score: 0.77):\n",
      "Für die Erreichung dieses Ziels sind neben CO2-Reduktionsmaßnahmen und der Um­ stellung auf erneuerbare Energien auch Kompensationsmaß­ nahmen vorgesehen. Um 50,4 % sollen die produktionsbedingten CO₂-Emissionen bis 2030 sinken. Der Konzern hat sich das Ziel gesetzt, die produktionsbe­ dingten CO2-E\n",
      "--------------------------------------------------------------------------------\n",
      "Ähnlichster Bericht-Chunk 2 (Score: 0.76):\n",
      "Er beinhaltet sowohl die direkten und indirekten CO₂-Emissionen der einzelnen Produktions­ standorte (Scope 1 und 2) als auch weitere direkte und indirekte CO₂-Emissionen im Lebens­zyklus der Fahrzeuge und darüber hinaus (Scope 3). Im Berichtsjahr betrug der DKI-Wert im Durchschnitt 47,3 t CO2 pro F\n",
      "--------------------------------------------------------------------------------\n",
      "Ähnlichster Bericht-Chunk 3 (Score: 0.76):\n",
      "Damit können die Emissionen aus der Nutzungsphase unserer Elektrofahrzeug­ flotte bilanziell reduziert werden. Klare Vorgaben für Dekarbonisierung in der Lieferkette Die Dekarbonisierung des Volkswagen Konzerns nimmt ihren Anfang in unseren Lieferketten. Beim Übergang zur Elektro­ mobilität werden d\n",
      "--------------------------------------------------------------------------------\n",
      "\n",
      "Artikel-Chunk 7:\n",
      "Und zwölf haben sich dieses Ziel nicht einmal gesetzt. Darunter (beispielhaft) auch Volkswagen, die derzeit mit harten Bandagen mit der IG Metall verhandeln. Der Autobauer erntet im Report viel Kritik, unter anderem für die Behauptung, einzelne Produktionslinien seien bereits klimaneutral. Der Repor...\n",
      "\n",
      "Ähnlichster Bericht-Chunk 1 (Score: 0.71):\n",
      "Das Ziel, die CO2-Emissionen in der Nutzungsphase (Scope 3) um 30 % zu reduzieren, hat die SBTi dem Volkswagen Konzern als konform mit der ­Begrenzung der Erderwärmung auf 2 Grad Celsius bestätigt. Bis 2030 will das Unternehmen 30 % weniger CO2 im Durch­ schnitt pro Fahrzeug (Pkw und leichte Nutzfah\n",
      "--------------------------------------------------------------------------------\n",
      "Ähnlichster Bericht-Chunk 2 (Score: 0.71):\n",
      "Als strategisches Feld setzen wir uns in der Nachhaltigkeit klare Ziele und Pläne – verbindlich und mit eindeutigen Verantwort­ lichkeiten. Der Fokus liegt dabei auf dem Umsetzen unserer strategischen Maßnahmen. Und auch hier nutzen wir die Synergien im Volkswagen Konzern: Alle Ziele werden systemat\n",
      "--------------------------------------------------------------------------------\n",
      "Ähnlichster Bericht-Chunk 3 (Score: 0.68):\n",
      "Weitere Vorgaben werden sich aus der neuen Altfahr­ zeuggesetzgebung ergeben, zu der die EU-Kommission im Berichtsjahr einen ersten Entwurf vorgelegt hat. Ein wichtiger Treiber der Kreislaufwirtschaft ist auch die fortschreitende Dekarbonisierung des Volkswagen Konzerns: Der wachsende Einsatz von Se\n",
      "--------------------------------------------------------------------------------\n",
      "\n",
      "Artikel-Chunk 8:\n",
      "Es soll Waldschutz- und Aufforstungsprojekte entwickeln und finanzieren. Diese Art der Kompensation sei ungeeignet, da die Bindung von Kohlenstoff auf diesem Weg unbeständig sei. Für eine entsprechende Skalierung fehle es an finanziellen Mitteln. Die Maßnahmen von VW würden nicht ausreichen, um das ...\n",
      "\n",
      "Ähnlichster Bericht-Chunk 1 (Score: 0.75):\n",
      "Das Leitbild legt den Fokus des Konzerns auf die vier in der folgenden Abbildung dargestellten Handlungs­ felder und die darunterliegenden Zielstellungen. KLIMA schützen Wir bekennen uns zum Pariser Klimaschutzabkommen und streben ein 1,5-Grad-Ambitions­ niveau an. Wir setzen konsequent auf die Elek\n",
      "--------------------------------------------------------------------------------\n",
      "Ähnlichster Bericht-Chunk 2 (Score: 0.75):\n",
      "Ein solches Verhalten muss für alle Mitarbeiter des Konzerns selbstverständlich sein. Deshalb haben wir I&C zu einem wesentlichen Element unserer Konzernstrategie NEW AUTO gemacht und als eines von sechs Fokusthemen unseres Nachhaltigkeitsprogramms de­ finiert. Strategisch wie operativ sollen I&C al\n",
      "--------------------------------------------------------------------------------\n",
      "Ähnlichster Bericht-Chunk 3 (Score: 0.74):\n",
      "Der Stimmungsindex im Volkswagen Konzern lag 2023 bei 82,5 von 100 möglichen Indexpunkten und damit leicht über dem Niveau des Vorjahres. Eigene Ideen erfolgreich einbringen Die Mitarbeiter übernehmen mit ihrer Kreativität, ihrem Wissen und ihrer Initiative Verantwortung für die Verbesserung der Pro\n",
      "--------------------------------------------------------------------------------\n"
     ]
    }
   ],
   "source": [
    "from sklearn.metrics.pairwise import cosine_similarity\n",
    "import numpy as np\n",
    "\n",
    "all_report_embeddings = embedding_model.encode(preprocessed_filtered_chunks, convert_to_tensor=True)\n",
    "all_article_embeddings = embedding_model.encode(preprocessed_article_chunks, convert_to_tensor=True)\n",
    "\n",
    "similarity_matrix = cosine_similarity(all_article_embeddings, all_report_embeddings)\n",
    "\n",
    "top_k = 3\n",
    "\n",
    "for i, article_chunk in enumerate(preprocessed_article_chunks):\n",
    "    similarities = similarity_matrix[i]\n",
    "    top_indices = np.argsort(similarities)[::-1][:top_k]\n",
    "    \n",
    "    print(f\"\\nArtikel-Chunk {i+1}:\\n{article_chunks[i][:300]}...\\n\")\n",
    "    \n",
    "    for rank, idx in enumerate(top_indices):\n",
    "        print(f\"Ähnlichster Bericht-Chunk {rank+1} (Score: {similarities[idx]:.2f}):\")\n",
    "        print(filtered_chunks[idx][:300])\n",
    "        print(\"-\" * 80)"
   ]
  }
 ],
 "metadata": {
  "kernelspec": {
   "display_name": "venv",
   "language": "python",
   "name": "python3"
  },
  "language_info": {
   "codemirror_mode": {
    "name": "ipython",
    "version": 3
   },
   "file_extension": ".py",
   "mimetype": "text/x-python",
   "name": "python",
   "nbconvert_exporter": "python",
   "pygments_lexer": "ipython3",
   "version": "3.10.0"
  }
 },
 "nbformat": 4,
 "nbformat_minor": 5
}
