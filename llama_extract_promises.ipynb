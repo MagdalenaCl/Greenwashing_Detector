{
 "cells": [
  {
   "cell_type": "code",
   "execution_count": null,
   "id": "50dc24de",
   "metadata": {},
   "outputs": [],
   "source": [
    "!pip install requests PyMuPDF\n",
    "!pip install requests"
   ]
  },
  {
   "cell_type": "code",
   "execution_count": null,
   "id": "cc429994",
   "metadata": {},
   "outputs": [],
   "source": [
    "import fitz  # PyMuPDF\n",
    "from ollama_api import OllamaApi  # Oder aus deinem eigenen Modul importieren\n",
    "import json\n",
    "\n",
    "# === Funktion: Text aus PDF extrahieren ===\n",
    "def extract_text_from_pdf(pdf_path):\n",
    "    doc = fitz.open(pdf_path)\n",
    "    text = \"\"\n",
    "    for page in doc:\n",
    "        text += page.get_text()\n",
    "    doc.close()\n",
    "    return text.strip()\n",
    "\n",
    "# === Funktion: Nachhaltigkeitsversprechen extrahieren lassen ===\n",
    "def extract_sustainability_promises(text, model_name=\"phi4:latest\"):\n",
    "    prompt = (\n",
    "        \"Extrahiere alle Aussagen oder Abschnitte, in denen das Unternehmen Nachhaltigkeit, \"\n",
    "        \"Umweltschutz, soziale Verantwortung oder ähnliche Versprechen macht. \"\n",
    "        \"Gib nur die relevanten Textstellen als Liste zurück.\\n\\n\"\n",
    "        f\"Text:\\n{text}\"\n",
    "    )\n",
    "\n",
    "    schema = {\n",
    "        \"type\": \"object\",\n",
    "        \"properties\": {\n",
    "            \"versprechen\": {\n",
    "                \"type\": \"array\",\n",
    "                \"items\": {\"type\": \"string\"}\n",
    "            }\n",
    "        },\n",
    "        \"required\": [\"versprechen\"]\n",
    "    }\n",
    "\n",
    "    response = OllamaApi.completion(prompt, model=model_name, schema=schema)\n",
    "    return response\n",
    "\n",
    "# === Hauptprogramm ===\n",
    "if __name__ == \"__main__\":\n",
    "    pdf_path = \"2023_Volkswagen_Group_Nachhaltigkeitsbericht.pdf\"  # Pfad zur PDF-Datei\n",
    "\n",
    "    print(\"📄 Lese PDF-Datei ein...\")\n",
    "    text = extract_text_from_pdf(pdf_path)\n",
    "\n",
    "    print(\"🤖 Sende an LLM zur Analyse...\")\n",
    "    result = extract_sustainability_promises(text)\n",
    "\n",
    "    print(\"\\n🔍 Extrahierte Nachhaltigkeitsversprechen:\")\n",
    "    if result[\"result\"]:\n",
    "        for i, versprechen in enumerate(result[\"result\"][\"versprechen\"], 1):\n",
    "            print(f\"{i}. {versprechen}\")\n",
    "    else:\n",
    "        print(\"Keine oder unklare Antwort erhalten.\")\n",
    "        print(\"Info:\", result.get(\"info\"))"
   ]
  }
 ],
 "metadata": {
  "language_info": {
   "name": "python"
  }
 },
 "nbformat": 4,
 "nbformat_minor": 5
}
